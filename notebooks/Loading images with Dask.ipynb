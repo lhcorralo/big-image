{
 "cells": [
  {
   "cell_type": "markdown",
   "source": [
    "# Loading images with Dask"
   ],
   "metadata": {
    "collapsed": false
   }
  },
  {
   "cell_type": "markdown",
   "source": [
    "Welcome to this notebook, where we wil show how to process images bigger than memory in GPU.\n",
    "It uses Dask, Xarray, CuPy, Napari… and many others. The documentation of those projects is pretty good, and therefore this notebook is mainly a copy-paste of that documentation. And Stack overflow, of course.\n",
    "Let’s start with some imports:"
   ],
   "metadata": {
    "collapsed": false
   }
  },
  {
   "cell_type": "code",
   "execution_count": 1,
   "outputs": [],
   "source": [
    "from math import isqrt\n",
    "from typing import Tuple\n",
    "\n",
    "import cupy as cp\n",
    "import dask\n",
    "import dask.array as da\n",
    "import numpy as np\n",
    "import rioxarray as rx\n",
    "import xarray as xr\n",
    "from dask.distributed import Client\n",
    "from dask.utils import parse_bytes\n",
    "from dask_cuda import LocalCUDACluster\n",
    "from skimage.util import view_as_blocks"
   ],
   "metadata": {
    "collapsed": false
   }
  },
  {
   "cell_type": "markdown",
   "source": [
    "Modify your settings here. You can also activate the warnings."
   ],
   "metadata": {
    "collapsed": false
   }
  },
  {
   "cell_type": "code",
   "execution_count": 2,
   "outputs": [],
   "source": [
    "BASE_PATH=\"YOUR PATH HERE\"\n",
    "\n",
    "import warnings\n",
    "warnings.filterwarnings('ignore')"
   ],
   "metadata": {
    "collapsed": false
   }
  },
  {
   "cell_type": "markdown",
   "source": [
    "Create the cluster. It uses Dask-Cuda, from RAPIDS. The cluster must only be initialized once. Note the memory limit."
   ],
   "metadata": {
    "collapsed": false
   }
  },
  {
   "cell_type": "code",
   "execution_count": 3,
   "outputs": [
    {
     "name": "stderr",
     "output_type": "stream",
     "text": [
      "2023-03-17 11:28:25,784 - distributed.preloading - INFO - Creating preload: dask_cuda.initialize\n",
      "2023-03-17 11:28:25,784 - distributed.preloading - INFO - Import preload module: dask_cuda.initialize\n"
     ]
    }
   ],
   "source": [
    "cluster = LocalCUDACluster(device_memory_limit=\"1GB\")"
   ],
   "metadata": {
    "collapsed": false
   }
  },
  {
   "cell_type": "markdown",
   "source": [
    "Adjust and create the client. Note the chunk size. It has been tuned for my computer, but you can try other values. Also note that the backend is set to CuPy by default, despite rioxarray (we will se it later) is ignoring it, I think.\n",
    "\n",
    "You can see the client's dashboard. It is quite relaxing."
   ],
   "metadata": {
    "collapsed": false
   }
  },
  {
   "cell_type": "code",
   "execution_count": 4,
   "outputs": [
    {
     "data": {
      "text/plain": "<Client: 'tcp://127.0.0.1:38159' processes=1 threads=1, memory=19.38 GiB>",
      "text/html": "<div>\n    <div style=\"width: 24px; height: 24px; background-color: #e1e1e1; border: 3px solid #9D9D9D; border-radius: 5px; position: absolute;\"> </div>\n    <div style=\"margin-left: 48px;\">\n        <h3 style=\"margin-bottom: 0px;\">Client</h3>\n        <p style=\"color: #9D9D9D; margin-bottom: 0px;\">Client-73d5b71f-c4ae-11ed-9790-00155d0eab86</p>\n        <table style=\"width: 100%; text-align: left;\">\n\n        <tr>\n        \n            <td style=\"text-align: left;\"><strong>Connection method:</strong> Cluster object</td>\n            <td style=\"text-align: left;\"><strong>Cluster type:</strong> dask_cuda.LocalCUDACluster</td>\n        \n        </tr>\n\n        \n            <tr>\n                <td style=\"text-align: left;\">\n                    <strong>Dashboard: </strong> <a href=\"http://127.0.0.1:8787/status\" target=\"_blank\">http://127.0.0.1:8787/status</a>\n                </td>\n                <td style=\"text-align: left;\"></td>\n            </tr>\n        \n\n        </table>\n\n        \n\n        \n            <details>\n            <summary style=\"margin-bottom: 20px;\"><h3 style=\"display: inline;\">Cluster Info</h3></summary>\n            <div class=\"jp-RenderedHTMLCommon jp-RenderedHTML jp-mod-trusted jp-OutputArea-output\">\n    <div style=\"width: 24px; height: 24px; background-color: #e1e1e1; border: 3px solid #9D9D9D; border-radius: 5px; position: absolute;\">\n    </div>\n    <div style=\"margin-left: 48px;\">\n        <h3 style=\"margin-bottom: 0px; margin-top: 0px;\">LocalCUDACluster</h3>\n        <p style=\"color: #9D9D9D; margin-bottom: 0px;\">9f47a0ed</p>\n        <table style=\"width: 100%; text-align: left;\">\n            <tr>\n                <td style=\"text-align: left;\">\n                    <strong>Dashboard:</strong> <a href=\"http://127.0.0.1:8787/status\" target=\"_blank\">http://127.0.0.1:8787/status</a>\n                </td>\n                <td style=\"text-align: left;\">\n                    <strong>Workers:</strong> 1\n                </td>\n            </tr>\n            <tr>\n                <td style=\"text-align: left;\">\n                    <strong>Total threads:</strong> 1\n                </td>\n                <td style=\"text-align: left;\">\n                    <strong>Total memory:</strong> 19.38 GiB\n                </td>\n            </tr>\n            \n            <tr>\n    <td style=\"text-align: left;\"><strong>Status:</strong> running</td>\n    <td style=\"text-align: left;\"><strong>Using processes:</strong> True</td>\n</tr>\n\n            \n        </table>\n\n        <details>\n            <summary style=\"margin-bottom: 20px;\">\n                <h3 style=\"display: inline;\">Scheduler Info</h3>\n            </summary>\n\n            <div style=\"\">\n    <div>\n        <div style=\"width: 24px; height: 24px; background-color: #FFF7E5; border: 3px solid #FF6132; border-radius: 5px; position: absolute;\"> </div>\n        <div style=\"margin-left: 48px;\">\n            <h3 style=\"margin-bottom: 0px;\">Scheduler</h3>\n            <p style=\"color: #9D9D9D; margin-bottom: 0px;\">Scheduler-e2da3043-b2d9-4bae-942e-c221df4f8bda</p>\n            <table style=\"width: 100%; text-align: left;\">\n                <tr>\n                    <td style=\"text-align: left;\">\n                        <strong>Comm:</strong> tcp://127.0.0.1:38159\n                    </td>\n                    <td style=\"text-align: left;\">\n                        <strong>Workers:</strong> 1\n                    </td>\n                </tr>\n                <tr>\n                    <td style=\"text-align: left;\">\n                        <strong>Dashboard:</strong> <a href=\"http://127.0.0.1:8787/status\" target=\"_blank\">http://127.0.0.1:8787/status</a>\n                    </td>\n                    <td style=\"text-align: left;\">\n                        <strong>Total threads:</strong> 1\n                    </td>\n                </tr>\n                <tr>\n                    <td style=\"text-align: left;\">\n                        <strong>Started:</strong> Just now\n                    </td>\n                    <td style=\"text-align: left;\">\n                        <strong>Total memory:</strong> 19.38 GiB\n                    </td>\n                </tr>\n            </table>\n        </div>\n    </div>\n\n    <details style=\"margin-left: 48px;\">\n        <summary style=\"margin-bottom: 20px;\">\n            <h3 style=\"display: inline;\">Workers</h3>\n        </summary>\n\n        \n        <div style=\"margin-bottom: 20px;\">\n            <div style=\"width: 24px; height: 24px; background-color: #DBF5FF; border: 3px solid #4CC9FF; border-radius: 5px; position: absolute;\"> </div>\n            <div style=\"margin-left: 48px;\">\n            <details>\n                <summary>\n                    <h4 style=\"margin-bottom: 0px; display: inline;\">Worker: 0</h4>\n                </summary>\n                <table style=\"width: 100%; text-align: left;\">\n                    <tr>\n                        <td style=\"text-align: left;\">\n                            <strong>Comm: </strong> tcp://127.0.0.1:38393\n                        </td>\n                        <td style=\"text-align: left;\">\n                            <strong>Total threads: </strong> 1\n                        </td>\n                    </tr>\n                    <tr>\n                        <td style=\"text-align: left;\">\n                            <strong>Dashboard: </strong> <a href=\"http://127.0.0.1:42727/status\" target=\"_blank\">http://127.0.0.1:42727/status</a>\n                        </td>\n                        <td style=\"text-align: left;\">\n                            <strong>Memory: </strong> 19.38 GiB\n                        </td>\n                    </tr>\n                    <tr>\n                        <td style=\"text-align: left;\">\n                            <strong>Nanny: </strong> tcp://127.0.0.1:38773\n                        </td>\n                        <td style=\"text-align: left;\"></td>\n                    </tr>\n                    <tr>\n                        <td colspan=\"2\" style=\"text-align: left;\">\n                            <strong>Local directory: </strong> /tmp/dask-worker-space/worker-8rsf357w\n                        </td>\n                    </tr>\n\n                    \n                    <tr>\n                        <td style=\"text-align: left;\">\n                            <strong>GPU: </strong>NVIDIA T500\n                        </td>\n                        <td style=\"text-align: left;\">\n                            <strong>GPU memory: </strong> 4.00 GiB\n                        </td>\n                    </tr>\n                    \n\n                    \n\n                </table>\n            </details>\n            </div>\n        </div>\n        \n\n    </details>\n</div>\n\n        </details>\n    </div>\n</div>\n            </details>\n        \n\n    </div>\n</div>"
     },
     "execution_count": 4,
     "metadata": {},
     "output_type": "execute_result"
    }
   ],
   "source": [
    "dask.config.set({\n",
    "    \"array.backend\": \"cupy\",\n",
    "    \"array.chunk-size\": \"64MiB\"\n",
    "    })\n",
    "client = Client(cluster)\n",
    "client"
   ],
   "metadata": {
    "collapsed": false
   }
  },
  {
   "cell_type": "markdown",
   "source": [
    "I do not have a real model. But anyway, let's create a fake one. CuPy provides interoperability with TensorFlow, so adapting this for a Keras model should not be that difficult."
   ],
   "metadata": {
    "collapsed": false
   }
  },
  {
   "cell_type": "code",
   "execution_count": 5,
   "outputs": [
    {
     "data": {
      "text/plain": "<__main__.Model at 0x7ff3ecb8c8b0>"
     },
     "execution_count": 5,
     "metadata": {},
     "output_type": "execute_result"
    }
   ],
   "source": [
    "class Model:\n",
    "\n",
    "    @property\n",
    "    def input_shape(self) -> Tuple[int, int, int]:\n",
    "        return 299, 299, 3\n",
    "\n",
    "    @property\n",
    "    def output_shape(self) -> Tuple[int, int, int]:\n",
    "        return 1, 1, 3\n",
    "\n",
    "    def predict(self, images_to_predict: np.ndarray) -> np.ndarray:\n",
    "        # Create a fake model.\n",
    "        # Average per band. That will generate a valid visible image\n",
    "        # TODO: maybe first dimensions must be grouped\n",
    "        return np.mean(images_to_predict, axis=(2, 3))\n",
    "\n",
    "model = Model()\n",
    "model"
   ],
   "metadata": {
    "collapsed": false
   }
  },
  {
   "cell_type": "markdown",
   "source": [
    "The first step when working with images is loading them. Yeah, obviously. This function loads all the images using rioxarray, and creates a big mosaic with all of them. Note that an xarray DataArray is returned. xarray is cool.\n",
    "\n",
    "Caveat: at the moment, only one image is loaded several times, and therefore Dask optimizes it. Real different images or image formats may behave in different ways.\n",
    "\n",
    "Also note the rioxarray warning. That library is though for gepospatial images, and it will complain if no geospatial data available. BUT, rioxarray creates xarray DataArray objects, using Dask arrays as backends, and honoring image chunks, and that is a good point. I think dask-image does not honour chunks.\n",
    "\n",
    "My test image is a hubble image downloaded from [here](https://esahubble.org/images/heic1502a/)."
   ],
   "metadata": {
    "collapsed": false
   }
  },
  {
   "cell_type": "code",
   "execution_count": 6,
   "outputs": [
    {
     "data": {
      "text/plain": "<xarray.DataArray (band: 3, y: 25576, x: 80000)>\ndask.array<asarray, shape=(3, 25576, 80000), dtype=uint8, chunksize=(1, 3197, 10000), chunktype=cupy.ndarray>\nCoordinates:\n  * band         (band) <U5 'red' 'green' 'blue'\n    spatial_ref  int64 0\nDimensions without coordinates: y, x\nAttributes:\n    TIFFTAG_DATETIME:          2015:01:06 09:57:18\n    TIFFTAG_IMAGEDESCRIPTION:  This image, captured with the NASA/ESA Hubble ...\n    TIFFTAG_RESOLUTIONUNIT:    2 (pixels/inch)\n    TIFFTAG_SOFTWARE:          Adobe Photoshop CC 2014 (Windows)\n    TIFFTAG_XRESOLUTION:       72\n    TIFFTAG_YRESOLUTION:       72\n    scale_factor:              1.0\n    add_offset:                0.0",
      "text/html": "<div><svg style=\"position: absolute; width: 0; height: 0; overflow: hidden\">\n<defs>\n<symbol id=\"icon-database\" viewBox=\"0 0 32 32\">\n<path d=\"M16 0c-8.837 0-16 2.239-16 5v4c0 2.761 7.163 5 16 5s16-2.239 16-5v-4c0-2.761-7.163-5-16-5z\"></path>\n<path d=\"M16 17c-8.837 0-16-2.239-16-5v6c0 2.761 7.163 5 16 5s16-2.239 16-5v-6c0 2.761-7.163 5-16 5z\"></path>\n<path d=\"M16 26c-8.837 0-16-2.239-16-5v6c0 2.761 7.163 5 16 5s16-2.239 16-5v-6c0 2.761-7.163 5-16 5z\"></path>\n</symbol>\n<symbol id=\"icon-file-text2\" viewBox=\"0 0 32 32\">\n<path d=\"M28.681 7.159c-0.694-0.947-1.662-2.053-2.724-3.116s-2.169-2.030-3.116-2.724c-1.612-1.182-2.393-1.319-2.841-1.319h-15.5c-1.378 0-2.5 1.121-2.5 2.5v27c0 1.378 1.122 2.5 2.5 2.5h23c1.378 0 2.5-1.122 2.5-2.5v-19.5c0-0.448-0.137-1.23-1.319-2.841zM24.543 5.457c0.959 0.959 1.712 1.825 2.268 2.543h-4.811v-4.811c0.718 0.556 1.584 1.309 2.543 2.268zM28 29.5c0 0.271-0.229 0.5-0.5 0.5h-23c-0.271 0-0.5-0.229-0.5-0.5v-27c0-0.271 0.229-0.5 0.5-0.5 0 0 15.499-0 15.5 0v7c0 0.552 0.448 1 1 1h7v19.5z\"></path>\n<path d=\"M23 26h-14c-0.552 0-1-0.448-1-1s0.448-1 1-1h14c0.552 0 1 0.448 1 1s-0.448 1-1 1z\"></path>\n<path d=\"M23 22h-14c-0.552 0-1-0.448-1-1s0.448-1 1-1h14c0.552 0 1 0.448 1 1s-0.448 1-1 1z\"></path>\n<path d=\"M23 18h-14c-0.552 0-1-0.448-1-1s0.448-1 1-1h14c0.552 0 1 0.448 1 1s-0.448 1-1 1z\"></path>\n</symbol>\n</defs>\n</svg>\n<style>/* CSS stylesheet for displaying xarray objects in jupyterlab.\n *\n */\n\n:root {\n  --xr-font-color0: var(--jp-content-font-color0, rgba(0, 0, 0, 1));\n  --xr-font-color2: var(--jp-content-font-color2, rgba(0, 0, 0, 0.54));\n  --xr-font-color3: var(--jp-content-font-color3, rgba(0, 0, 0, 0.38));\n  --xr-border-color: var(--jp-border-color2, #e0e0e0);\n  --xr-disabled-color: var(--jp-layout-color3, #bdbdbd);\n  --xr-background-color: var(--jp-layout-color0, white);\n  --xr-background-color-row-even: var(--jp-layout-color1, white);\n  --xr-background-color-row-odd: var(--jp-layout-color2, #eeeeee);\n}\n\nhtml[theme=dark],\nbody[data-theme=dark],\nbody.vscode-dark {\n  --xr-font-color0: rgba(255, 255, 255, 1);\n  --xr-font-color2: rgba(255, 255, 255, 0.54);\n  --xr-font-color3: rgba(255, 255, 255, 0.38);\n  --xr-border-color: #1F1F1F;\n  --xr-disabled-color: #515151;\n  --xr-background-color: #111111;\n  --xr-background-color-row-even: #111111;\n  --xr-background-color-row-odd: #313131;\n}\n\n.xr-wrap {\n  display: block !important;\n  min-width: 300px;\n  max-width: 700px;\n}\n\n.xr-text-repr-fallback {\n  /* fallback to plain text repr when CSS is not injected (untrusted notebook) */\n  display: none;\n}\n\n.xr-header {\n  padding-top: 6px;\n  padding-bottom: 6px;\n  margin-bottom: 4px;\n  border-bottom: solid 1px var(--xr-border-color);\n}\n\n.xr-header > div,\n.xr-header > ul {\n  display: inline;\n  margin-top: 0;\n  margin-bottom: 0;\n}\n\n.xr-obj-type,\n.xr-array-name {\n  margin-left: 2px;\n  margin-right: 10px;\n}\n\n.xr-obj-type {\n  color: var(--xr-font-color2);\n}\n\n.xr-sections {\n  padding-left: 0 !important;\n  display: grid;\n  grid-template-columns: 150px auto auto 1fr 20px 20px;\n}\n\n.xr-section-item {\n  display: contents;\n}\n\n.xr-section-item input {\n  display: none;\n}\n\n.xr-section-item input + label {\n  color: var(--xr-disabled-color);\n}\n\n.xr-section-item input:enabled + label {\n  cursor: pointer;\n  color: var(--xr-font-color2);\n}\n\n.xr-section-item input:enabled + label:hover {\n  color: var(--xr-font-color0);\n}\n\n.xr-section-summary {\n  grid-column: 1;\n  color: var(--xr-font-color2);\n  font-weight: 500;\n}\n\n.xr-section-summary > span {\n  display: inline-block;\n  padding-left: 0.5em;\n}\n\n.xr-section-summary-in:disabled + label {\n  color: var(--xr-font-color2);\n}\n\n.xr-section-summary-in + label:before {\n  display: inline-block;\n  content: '►';\n  font-size: 11px;\n  width: 15px;\n  text-align: center;\n}\n\n.xr-section-summary-in:disabled + label:before {\n  color: var(--xr-disabled-color);\n}\n\n.xr-section-summary-in:checked + label:before {\n  content: '▼';\n}\n\n.xr-section-summary-in:checked + label > span {\n  display: none;\n}\n\n.xr-section-summary,\n.xr-section-inline-details {\n  padding-top: 4px;\n  padding-bottom: 4px;\n}\n\n.xr-section-inline-details {\n  grid-column: 2 / -1;\n}\n\n.xr-section-details {\n  display: none;\n  grid-column: 1 / -1;\n  margin-bottom: 5px;\n}\n\n.xr-section-summary-in:checked ~ .xr-section-details {\n  display: contents;\n}\n\n.xr-array-wrap {\n  grid-column: 1 / -1;\n  display: grid;\n  grid-template-columns: 20px auto;\n}\n\n.xr-array-wrap > label {\n  grid-column: 1;\n  vertical-align: top;\n}\n\n.xr-preview {\n  color: var(--xr-font-color3);\n}\n\n.xr-array-preview,\n.xr-array-data {\n  padding: 0 5px !important;\n  grid-column: 2;\n}\n\n.xr-array-data,\n.xr-array-in:checked ~ .xr-array-preview {\n  display: none;\n}\n\n.xr-array-in:checked ~ .xr-array-data,\n.xr-array-preview {\n  display: inline-block;\n}\n\n.xr-dim-list {\n  display: inline-block !important;\n  list-style: none;\n  padding: 0 !important;\n  margin: 0;\n}\n\n.xr-dim-list li {\n  display: inline-block;\n  padding: 0;\n  margin: 0;\n}\n\n.xr-dim-list:before {\n  content: '(';\n}\n\n.xr-dim-list:after {\n  content: ')';\n}\n\n.xr-dim-list li:not(:last-child):after {\n  content: ',';\n  padding-right: 5px;\n}\n\n.xr-has-index {\n  font-weight: bold;\n}\n\n.xr-var-list,\n.xr-var-item {\n  display: contents;\n}\n\n.xr-var-item > div,\n.xr-var-item label,\n.xr-var-item > .xr-var-name span {\n  background-color: var(--xr-background-color-row-even);\n  margin-bottom: 0;\n}\n\n.xr-var-item > .xr-var-name:hover span {\n  padding-right: 5px;\n}\n\n.xr-var-list > li:nth-child(odd) > div,\n.xr-var-list > li:nth-child(odd) > label,\n.xr-var-list > li:nth-child(odd) > .xr-var-name span {\n  background-color: var(--xr-background-color-row-odd);\n}\n\n.xr-var-name {\n  grid-column: 1;\n}\n\n.xr-var-dims {\n  grid-column: 2;\n}\n\n.xr-var-dtype {\n  grid-column: 3;\n  text-align: right;\n  color: var(--xr-font-color2);\n}\n\n.xr-var-preview {\n  grid-column: 4;\n}\n\n.xr-index-preview {\n  grid-column: 2 / 5;\n  color: var(--xr-font-color2);\n}\n\n.xr-var-name,\n.xr-var-dims,\n.xr-var-dtype,\n.xr-preview,\n.xr-attrs dt {\n  white-space: nowrap;\n  overflow: hidden;\n  text-overflow: ellipsis;\n  padding-right: 10px;\n}\n\n.xr-var-name:hover,\n.xr-var-dims:hover,\n.xr-var-dtype:hover,\n.xr-attrs dt:hover {\n  overflow: visible;\n  width: auto;\n  z-index: 1;\n}\n\n.xr-var-attrs,\n.xr-var-data,\n.xr-index-data {\n  display: none;\n  background-color: var(--xr-background-color) !important;\n  padding-bottom: 5px !important;\n}\n\n.xr-var-attrs-in:checked ~ .xr-var-attrs,\n.xr-var-data-in:checked ~ .xr-var-data,\n.xr-index-data-in:checked ~ .xr-index-data {\n  display: block;\n}\n\n.xr-var-data > table {\n  float: right;\n}\n\n.xr-var-name span,\n.xr-var-data,\n.xr-index-name div,\n.xr-index-data,\n.xr-attrs {\n  padding-left: 25px !important;\n}\n\n.xr-attrs,\n.xr-var-attrs,\n.xr-var-data,\n.xr-index-data {\n  grid-column: 1 / -1;\n}\n\ndl.xr-attrs {\n  padding: 0;\n  margin: 0;\n  display: grid;\n  grid-template-columns: 125px auto;\n}\n\n.xr-attrs dt,\n.xr-attrs dd {\n  padding: 0;\n  margin: 0;\n  float: left;\n  padding-right: 10px;\n  width: auto;\n}\n\n.xr-attrs dt {\n  font-weight: normal;\n  grid-column: 1;\n}\n\n.xr-attrs dt:hover span {\n  display: inline-block;\n  background: var(--xr-background-color);\n  padding-right: 10px;\n}\n\n.xr-attrs dd {\n  grid-column: 2;\n  white-space: pre-wrap;\n  word-break: break-all;\n}\n\n.xr-icon-database,\n.xr-icon-file-text2,\n.xr-no-icon {\n  display: inline-block;\n  vertical-align: middle;\n  width: 1em;\n  height: 1.5em !important;\n  stroke-width: 0;\n  stroke: currentColor;\n  fill: currentColor;\n}\n</style><pre class='xr-text-repr-fallback'>&lt;xarray.DataArray (band: 3, y: 25576, x: 80000)&gt;\ndask.array&lt;asarray, shape=(3, 25576, 80000), dtype=uint8, chunksize=(1, 3197, 10000), chunktype=cupy.ndarray&gt;\nCoordinates:\n  * band         (band) &lt;U5 &#x27;red&#x27; &#x27;green&#x27; &#x27;blue&#x27;\n    spatial_ref  int64 0\nDimensions without coordinates: y, x\nAttributes:\n    TIFFTAG_DATETIME:          2015:01:06 09:57:18\n    TIFFTAG_IMAGEDESCRIPTION:  This image, captured with the NASA/ESA Hubble ...\n    TIFFTAG_RESOLUTIONUNIT:    2 (pixels/inch)\n    TIFFTAG_SOFTWARE:          Adobe Photoshop CC 2014 (Windows)\n    TIFFTAG_XRESOLUTION:       72\n    TIFFTAG_YRESOLUTION:       72\n    scale_factor:              1.0\n    add_offset:                0.0</pre><div class='xr-wrap' style='display:none'><div class='xr-header'><div class='xr-obj-type'>xarray.DataArray</div><div class='xr-array-name'></div><ul class='xr-dim-list'><li><span class='xr-has-index'>band</span>: 3</li><li><span>y</span>: 25576</li><li><span>x</span>: 80000</li></ul></div><ul class='xr-sections'><li class='xr-section-item'><div class='xr-array-wrap'><input id='section-14ff6af0-3962-42a2-a327-6cf9e69150ea' class='xr-array-in' type='checkbox' checked><label for='section-14ff6af0-3962-42a2-a327-6cf9e69150ea' title='Show/hide data repr'><svg class='icon xr-icon-database'><use xlink:href='#icon-database'></use></svg></label><div class='xr-array-preview xr-preview'><span>dask.array&lt;chunksize=(1, 3197, 10000), meta=cupy.ndarray&gt;</span></div><div class='xr-array-data'><table>\n    <tr>\n        <td>\n            <table style=\"border-collapse: collapse;\">\n                <thead>\n                    <tr>\n                        <td> </td>\n                        <th> Array </th>\n                        <th> Chunk </th>\n                    </tr>\n                </thead>\n                <tbody>\n                    \n                    <tr>\n                        <th> Bytes </th>\n                        <td> 5.72 GiB </td>\n                        <td> 30.49 MiB </td>\n                    </tr>\n                    \n                    <tr>\n                        <th> Shape </th>\n                        <td> (3, 25576, 80000) </td>\n                        <td> (1, 3197, 10000) </td>\n                    </tr>\n                    <tr>\n                        <th> Dask graph </th>\n                        <td colspan=\"2\"> 192 chunks in 5 graph layers </td>\n                    </tr>\n                    <tr>\n                        <th> Data type </th>\n                        <td colspan=\"2\"> uint8 cupy.ndarray </td>\n                    </tr>\n                </tbody>\n            </table>\n        </td>\n        <td>\n        <svg width=\"194\" height=\"108\" style=\"stroke:rgb(0,0,0);stroke-width:1\" >\n\n  <!-- Horizontal lines -->\n  <line x1=\"10\" y1=\"0\" x2=\"24\" y2=\"14\" style=\"stroke-width:2\" />\n  <line x1=\"10\" y1=\"5\" x2=\"24\" y2=\"20\" />\n  <line x1=\"10\" y1=\"10\" x2=\"24\" y2=\"25\" />\n  <line x1=\"10\" y1=\"16\" x2=\"24\" y2=\"31\" />\n  <line x1=\"10\" y1=\"21\" x2=\"24\" y2=\"36\" />\n  <line x1=\"10\" y1=\"27\" x2=\"24\" y2=\"42\" />\n  <line x1=\"10\" y1=\"32\" x2=\"24\" y2=\"47\" />\n  <line x1=\"10\" y1=\"38\" x2=\"24\" y2=\"53\" />\n  <line x1=\"10\" y1=\"43\" x2=\"24\" y2=\"58\" style=\"stroke-width:2\" />\n\n  <!-- Vertical lines -->\n  <line x1=\"10\" y1=\"0\" x2=\"10\" y2=\"43\" style=\"stroke-width:2\" />\n  <line x1=\"14\" y1=\"4\" x2=\"14\" y2=\"48\" />\n  <line x1=\"19\" y1=\"9\" x2=\"19\" y2=\"53\" />\n  <line x1=\"24\" y1=\"14\" x2=\"24\" y2=\"58\" style=\"stroke-width:2\" />\n\n  <!-- Colored Rectangle -->\n  <polygon points=\"10.0,0.0 24.9485979497544,14.948597949754403 24.9485979497544,58.702053872200935 10.0,43.753455922446534\" style=\"fill:#ECB172A0;stroke-width:0\"/>\n\n  <!-- Horizontal lines -->\n  <line x1=\"10\" y1=\"0\" x2=\"130\" y2=\"0\" style=\"stroke-width:2\" />\n  <line x1=\"14\" y1=\"4\" x2=\"134\" y2=\"4\" />\n  <line x1=\"19\" y1=\"9\" x2=\"139\" y2=\"9\" />\n  <line x1=\"24\" y1=\"14\" x2=\"144\" y2=\"14\" style=\"stroke-width:2\" />\n\n  <!-- Vertical lines -->\n  <line x1=\"10\" y1=\"0\" x2=\"24\" y2=\"14\" style=\"stroke-width:2\" />\n  <line x1=\"25\" y1=\"0\" x2=\"39\" y2=\"14\" />\n  <line x1=\"40\" y1=\"0\" x2=\"54\" y2=\"14\" />\n  <line x1=\"55\" y1=\"0\" x2=\"69\" y2=\"14\" />\n  <line x1=\"70\" y1=\"0\" x2=\"84\" y2=\"14\" />\n  <line x1=\"85\" y1=\"0\" x2=\"99\" y2=\"14\" />\n  <line x1=\"100\" y1=\"0\" x2=\"114\" y2=\"14\" />\n  <line x1=\"115\" y1=\"0\" x2=\"129\" y2=\"14\" />\n  <line x1=\"130\" y1=\"0\" x2=\"144\" y2=\"14\" style=\"stroke-width:2\" />\n\n  <!-- Colored Rectangle -->\n  <polygon points=\"10.0,0.0 130.0,0.0 144.9485979497544,14.948597949754403 24.9485979497544,14.948597949754403\" style=\"fill:#ECB172A0;stroke-width:0\"/>\n\n  <!-- Horizontal lines -->\n  <line x1=\"24\" y1=\"14\" x2=\"144\" y2=\"14\" style=\"stroke-width:2\" />\n  <line x1=\"24\" y1=\"20\" x2=\"144\" y2=\"20\" />\n  <line x1=\"24\" y1=\"25\" x2=\"144\" y2=\"25\" />\n  <line x1=\"24\" y1=\"31\" x2=\"144\" y2=\"31\" />\n  <line x1=\"24\" y1=\"36\" x2=\"144\" y2=\"36\" />\n  <line x1=\"24\" y1=\"42\" x2=\"144\" y2=\"42\" />\n  <line x1=\"24\" y1=\"47\" x2=\"144\" y2=\"47\" />\n  <line x1=\"24\" y1=\"53\" x2=\"144\" y2=\"53\" />\n  <line x1=\"24\" y1=\"58\" x2=\"144\" y2=\"58\" style=\"stroke-width:2\" />\n\n  <!-- Vertical lines -->\n  <line x1=\"24\" y1=\"14\" x2=\"24\" y2=\"58\" style=\"stroke-width:2\" />\n  <line x1=\"39\" y1=\"14\" x2=\"39\" y2=\"58\" />\n  <line x1=\"54\" y1=\"14\" x2=\"54\" y2=\"58\" />\n  <line x1=\"69\" y1=\"14\" x2=\"69\" y2=\"58\" />\n  <line x1=\"84\" y1=\"14\" x2=\"84\" y2=\"58\" />\n  <line x1=\"99\" y1=\"14\" x2=\"99\" y2=\"58\" />\n  <line x1=\"114\" y1=\"14\" x2=\"114\" y2=\"58\" />\n  <line x1=\"129\" y1=\"14\" x2=\"129\" y2=\"58\" />\n  <line x1=\"144\" y1=\"14\" x2=\"144\" y2=\"58\" style=\"stroke-width:2\" />\n\n  <!-- Colored Rectangle -->\n  <polygon points=\"24.9485979497544,14.948597949754403 144.9485979497544,14.948597949754403 144.9485979497544,58.702053872200935 24.9485979497544,58.702053872200935\" style=\"fill:#ECB172A0;stroke-width:0\"/>\n\n  <!-- Text -->\n  <text x=\"84.948598\" y=\"78.702054\" font-size=\"1.0rem\" font-weight=\"100\" text-anchor=\"middle\" >80000</text>\n  <text x=\"164.948598\" y=\"36.825326\" font-size=\"1.0rem\" font-weight=\"100\" text-anchor=\"middle\" transform=\"rotate(-90,164.948598,36.825326)\">25576</text>\n  <text x=\"7.474299\" y=\"71.227755\" font-size=\"1.0rem\" font-weight=\"100\" text-anchor=\"middle\" transform=\"rotate(45,7.474299,71.227755)\">3</text>\n</svg>\n        </td>\n    </tr>\n</table></div></div></li><li class='xr-section-item'><input id='section-3823f342-a244-4515-9e90-8991749c39d3' class='xr-section-summary-in' type='checkbox'  checked><label for='section-3823f342-a244-4515-9e90-8991749c39d3' class='xr-section-summary' >Coordinates: <span>(2)</span></label><div class='xr-section-inline-details'></div><div class='xr-section-details'><ul class='xr-var-list'><li class='xr-var-item'><div class='xr-var-name'><span class='xr-has-index'>band</span></div><div class='xr-var-dims'>(band)</div><div class='xr-var-dtype'>&lt;U5</div><div class='xr-var-preview xr-preview'>&#x27;red&#x27; &#x27;green&#x27; &#x27;blue&#x27;</div><input id='attrs-4d8b23c5-15ca-40aa-8583-6c9903dae909' class='xr-var-attrs-in' type='checkbox' disabled><label for='attrs-4d8b23c5-15ca-40aa-8583-6c9903dae909' title='Show/Hide attributes'><svg class='icon xr-icon-file-text2'><use xlink:href='#icon-file-text2'></use></svg></label><input id='data-41a7bb46-0e06-44b4-ad9f-e85696d018bf' class='xr-var-data-in' type='checkbox'><label for='data-41a7bb46-0e06-44b4-ad9f-e85696d018bf' title='Show/Hide data repr'><svg class='icon xr-icon-database'><use xlink:href='#icon-database'></use></svg></label><div class='xr-var-attrs'><dl class='xr-attrs'></dl></div><div class='xr-var-data'><pre>array([&#x27;red&#x27;, &#x27;green&#x27;, &#x27;blue&#x27;], dtype=&#x27;&lt;U5&#x27;)</pre></div></li><li class='xr-var-item'><div class='xr-var-name'><span>spatial_ref</span></div><div class='xr-var-dims'>()</div><div class='xr-var-dtype'>int64</div><div class='xr-var-preview xr-preview'>0</div><input id='attrs-962a205f-cd35-4f8a-8bf2-7e9bdcc3697b' class='xr-var-attrs-in' type='checkbox' ><label for='attrs-962a205f-cd35-4f8a-8bf2-7e9bdcc3697b' title='Show/Hide attributes'><svg class='icon xr-icon-file-text2'><use xlink:href='#icon-file-text2'></use></svg></label><input id='data-4a5a89a3-b20b-4057-9668-c3aff831c165' class='xr-var-data-in' type='checkbox'><label for='data-4a5a89a3-b20b-4057-9668-c3aff831c165' title='Show/Hide data repr'><svg class='icon xr-icon-database'><use xlink:href='#icon-database'></use></svg></label><div class='xr-var-attrs'><dl class='xr-attrs'><dt><span>GeoTransform :</span></dt><dd>0.0 1.0 0.0 0.0 0.0 1.0</dd></dl></div><div class='xr-var-data'><pre>array(0)</pre></div></li></ul></div></li><li class='xr-section-item'><input id='section-7ace9ac8-a8c3-4878-8eda-196dbe50a96a' class='xr-section-summary-in' type='checkbox'  ><label for='section-7ace9ac8-a8c3-4878-8eda-196dbe50a96a' class='xr-section-summary' >Indexes: <span>(1)</span></label><div class='xr-section-inline-details'></div><div class='xr-section-details'><ul class='xr-var-list'><li class='xr-var-item'><div class='xr-index-name'><div>band</div></div><div class='xr-index-preview'>PandasIndex</div><div></div><input id='index-b064ab0f-f41d-496d-a0b2-7d85768e3c8c' class='xr-index-data-in' type='checkbox'/><label for='index-b064ab0f-f41d-496d-a0b2-7d85768e3c8c' title='Show/Hide index repr'><svg class='icon xr-icon-database'><use xlink:href='#icon-database'></use></svg></label><div class='xr-index-data'><pre>PandasIndex(Index([&#x27;red&#x27;, &#x27;green&#x27;, &#x27;blue&#x27;], dtype=&#x27;object&#x27;, name=&#x27;band&#x27;))</pre></div></li></ul></div></li><li class='xr-section-item'><input id='section-5abbcbf3-b5d4-4432-bb76-2c20f94d673e' class='xr-section-summary-in' type='checkbox'  checked><label for='section-5abbcbf3-b5d4-4432-bb76-2c20f94d673e' class='xr-section-summary' >Attributes: <span>(8)</span></label><div class='xr-section-inline-details'></div><div class='xr-section-details'><dl class='xr-attrs'><dt><span>TIFFTAG_DATETIME :</span></dt><dd>2015:01:06 09:57:18</dd><dt><span>TIFFTAG_IMAGEDESCRIPTION :</span></dt><dd>This image, captured with the NASA/ESA Hubble Space Telescope, is the largest and sharpest image ever taken of the Andromeda galaxy — otherwise known as M31. This is a cropped version of the full image and has 1.5 billion pixels. You would need more than 600 HD television screens to display the whole image. It is the biggest Hubble image ever released and shows over 100 million stars and thousands of star clusters embedded in a section of the galaxy’s pancake-shaped disc stretching across over 40 000 light-years. This image is too large to be easily displayed at full resolution and is best appreciated using the zoom tool.</dd><dt><span>TIFFTAG_RESOLUTIONUNIT :</span></dt><dd>2 (pixels/inch)</dd><dt><span>TIFFTAG_SOFTWARE :</span></dt><dd>Adobe Photoshop CC 2014 (Windows)</dd><dt><span>TIFFTAG_XRESOLUTION :</span></dt><dd>72</dd><dt><span>TIFFTAG_YRESOLUTION :</span></dt><dd>72</dd><dt><span>scale_factor :</span></dt><dd>1.0</dd><dt><span>add_offset :</span></dt><dd>0.0</dd></dl></div></li></ul></div></div>"
     },
     "execution_count": 6,
     "metadata": {},
     "output_type": "execute_result"
    }
   ],
   "source": [
    "def get_image_mosaic() -> xr.DataArray:\n",
    "    # https://esahubble.org/images/heic1502a/\n",
    "    base_image = BASE_PATH + '/data/heic1502a.tif'\n",
    "    rows = []\n",
    "    for row in range(8):\n",
    "        current_row = []\n",
    "        for col in range(8):\n",
    "            # Read and remove useless band\n",
    "            img = rx.open_rasterio(base_image,\n",
    "                                   parse_coordinates=False,\n",
    "                                   chunks='auto')\n",
    "            current_row.append(img)\n",
    "        row_array = xr.concat(current_row, dim='x')\n",
    "        rows.append(row_array)\n",
    "    image = xr.concat(rows, dim='y')\n",
    "\n",
    "    # Tidy the image\n",
    "    image = image.assign_coords({'band': ['red', 'green', 'blue']})\n",
    "    return image\n",
    "\n",
    "\n",
    "image_mosaic = get_image_mosaic()\n",
    "image_mosaic = image_mosaic.copy(deep=False, data=image_mosaic.data.map_blocks(cp.asarray))\n",
    "image_mosaic"
   ],
   "metadata": {
    "collapsed": false
   }
  },
  {
   "cell_type": "markdown",
   "source": [
    "Until now, there is not anything weird, we just loaded images. Now the image must be adapted to the model.\n",
    "\n",
    "Dask works splitting the image into chunks. Too big chunks, we blow the memory, too small chunks, it is slow. We determine the optimal chunk shape based on the desired chunk size, and reshape the image for having chunks with shapes multiples of the model shape.\n",
    "\n",
    "We also normalize the image to range \\[0, 1\\]. This is different in numpy than in cupy.\n",
    "\n",
    "Note the `da.map_blocks` function."
   ],
   "metadata": {
    "collapsed": false
   }
  },
  {
   "cell_type": "code",
   "execution_count": 7,
   "outputs": [
    {
     "data": {
      "text/plain": "<xarray.DataArray (y: 25714, x: 80132, band: 3)>\ndask.array<normalize_chunk, shape=(25714, 80132, 3), dtype=float32, chunksize=(4485, 4784, 3), chunktype=numpy.ndarray>\nCoordinates:\n  * band         (band) <U5 'red' 'green' 'blue'\n    spatial_ref  int64 0\nDimensions without coordinates: y, x\nAttributes:\n    TIFFTAG_DATETIME:          2015:01:06 09:57:18\n    TIFFTAG_IMAGEDESCRIPTION:  This image, captured with the NASA/ESA Hubble ...\n    TIFFTAG_RESOLUTIONUNIT:    2 (pixels/inch)\n    TIFFTAG_SOFTWARE:          Adobe Photoshop CC 2014 (Windows)\n    TIFFTAG_XRESOLUTION:       72\n    TIFFTAG_YRESOLUTION:       72\n    scale_factor:              1.0\n    add_offset:                0.0",
      "text/html": "<div><svg style=\"position: absolute; width: 0; height: 0; overflow: hidden\">\n<defs>\n<symbol id=\"icon-database\" viewBox=\"0 0 32 32\">\n<path d=\"M16 0c-8.837 0-16 2.239-16 5v4c0 2.761 7.163 5 16 5s16-2.239 16-5v-4c0-2.761-7.163-5-16-5z\"></path>\n<path d=\"M16 17c-8.837 0-16-2.239-16-5v6c0 2.761 7.163 5 16 5s16-2.239 16-5v-6c0 2.761-7.163 5-16 5z\"></path>\n<path d=\"M16 26c-8.837 0-16-2.239-16-5v6c0 2.761 7.163 5 16 5s16-2.239 16-5v-6c0 2.761-7.163 5-16 5z\"></path>\n</symbol>\n<symbol id=\"icon-file-text2\" viewBox=\"0 0 32 32\">\n<path d=\"M28.681 7.159c-0.694-0.947-1.662-2.053-2.724-3.116s-2.169-2.030-3.116-2.724c-1.612-1.182-2.393-1.319-2.841-1.319h-15.5c-1.378 0-2.5 1.121-2.5 2.5v27c0 1.378 1.122 2.5 2.5 2.5h23c1.378 0 2.5-1.122 2.5-2.5v-19.5c0-0.448-0.137-1.23-1.319-2.841zM24.543 5.457c0.959 0.959 1.712 1.825 2.268 2.543h-4.811v-4.811c0.718 0.556 1.584 1.309 2.543 2.268zM28 29.5c0 0.271-0.229 0.5-0.5 0.5h-23c-0.271 0-0.5-0.229-0.5-0.5v-27c0-0.271 0.229-0.5 0.5-0.5 0 0 15.499-0 15.5 0v7c0 0.552 0.448 1 1 1h7v19.5z\"></path>\n<path d=\"M23 26h-14c-0.552 0-1-0.448-1-1s0.448-1 1-1h14c0.552 0 1 0.448 1 1s-0.448 1-1 1z\"></path>\n<path d=\"M23 22h-14c-0.552 0-1-0.448-1-1s0.448-1 1-1h14c0.552 0 1 0.448 1 1s-0.448 1-1 1z\"></path>\n<path d=\"M23 18h-14c-0.552 0-1-0.448-1-1s0.448-1 1-1h14c0.552 0 1 0.448 1 1s-0.448 1-1 1z\"></path>\n</symbol>\n</defs>\n</svg>\n<style>/* CSS stylesheet for displaying xarray objects in jupyterlab.\n *\n */\n\n:root {\n  --xr-font-color0: var(--jp-content-font-color0, rgba(0, 0, 0, 1));\n  --xr-font-color2: var(--jp-content-font-color2, rgba(0, 0, 0, 0.54));\n  --xr-font-color3: var(--jp-content-font-color3, rgba(0, 0, 0, 0.38));\n  --xr-border-color: var(--jp-border-color2, #e0e0e0);\n  --xr-disabled-color: var(--jp-layout-color3, #bdbdbd);\n  --xr-background-color: var(--jp-layout-color0, white);\n  --xr-background-color-row-even: var(--jp-layout-color1, white);\n  --xr-background-color-row-odd: var(--jp-layout-color2, #eeeeee);\n}\n\nhtml[theme=dark],\nbody[data-theme=dark],\nbody.vscode-dark {\n  --xr-font-color0: rgba(255, 255, 255, 1);\n  --xr-font-color2: rgba(255, 255, 255, 0.54);\n  --xr-font-color3: rgba(255, 255, 255, 0.38);\n  --xr-border-color: #1F1F1F;\n  --xr-disabled-color: #515151;\n  --xr-background-color: #111111;\n  --xr-background-color-row-even: #111111;\n  --xr-background-color-row-odd: #313131;\n}\n\n.xr-wrap {\n  display: block !important;\n  min-width: 300px;\n  max-width: 700px;\n}\n\n.xr-text-repr-fallback {\n  /* fallback to plain text repr when CSS is not injected (untrusted notebook) */\n  display: none;\n}\n\n.xr-header {\n  padding-top: 6px;\n  padding-bottom: 6px;\n  margin-bottom: 4px;\n  border-bottom: solid 1px var(--xr-border-color);\n}\n\n.xr-header > div,\n.xr-header > ul {\n  display: inline;\n  margin-top: 0;\n  margin-bottom: 0;\n}\n\n.xr-obj-type,\n.xr-array-name {\n  margin-left: 2px;\n  margin-right: 10px;\n}\n\n.xr-obj-type {\n  color: var(--xr-font-color2);\n}\n\n.xr-sections {\n  padding-left: 0 !important;\n  display: grid;\n  grid-template-columns: 150px auto auto 1fr 20px 20px;\n}\n\n.xr-section-item {\n  display: contents;\n}\n\n.xr-section-item input {\n  display: none;\n}\n\n.xr-section-item input + label {\n  color: var(--xr-disabled-color);\n}\n\n.xr-section-item input:enabled + label {\n  cursor: pointer;\n  color: var(--xr-font-color2);\n}\n\n.xr-section-item input:enabled + label:hover {\n  color: var(--xr-font-color0);\n}\n\n.xr-section-summary {\n  grid-column: 1;\n  color: var(--xr-font-color2);\n  font-weight: 500;\n}\n\n.xr-section-summary > span {\n  display: inline-block;\n  padding-left: 0.5em;\n}\n\n.xr-section-summary-in:disabled + label {\n  color: var(--xr-font-color2);\n}\n\n.xr-section-summary-in + label:before {\n  display: inline-block;\n  content: '►';\n  font-size: 11px;\n  width: 15px;\n  text-align: center;\n}\n\n.xr-section-summary-in:disabled + label:before {\n  color: var(--xr-disabled-color);\n}\n\n.xr-section-summary-in:checked + label:before {\n  content: '▼';\n}\n\n.xr-section-summary-in:checked + label > span {\n  display: none;\n}\n\n.xr-section-summary,\n.xr-section-inline-details {\n  padding-top: 4px;\n  padding-bottom: 4px;\n}\n\n.xr-section-inline-details {\n  grid-column: 2 / -1;\n}\n\n.xr-section-details {\n  display: none;\n  grid-column: 1 / -1;\n  margin-bottom: 5px;\n}\n\n.xr-section-summary-in:checked ~ .xr-section-details {\n  display: contents;\n}\n\n.xr-array-wrap {\n  grid-column: 1 / -1;\n  display: grid;\n  grid-template-columns: 20px auto;\n}\n\n.xr-array-wrap > label {\n  grid-column: 1;\n  vertical-align: top;\n}\n\n.xr-preview {\n  color: var(--xr-font-color3);\n}\n\n.xr-array-preview,\n.xr-array-data {\n  padding: 0 5px !important;\n  grid-column: 2;\n}\n\n.xr-array-data,\n.xr-array-in:checked ~ .xr-array-preview {\n  display: none;\n}\n\n.xr-array-in:checked ~ .xr-array-data,\n.xr-array-preview {\n  display: inline-block;\n}\n\n.xr-dim-list {\n  display: inline-block !important;\n  list-style: none;\n  padding: 0 !important;\n  margin: 0;\n}\n\n.xr-dim-list li {\n  display: inline-block;\n  padding: 0;\n  margin: 0;\n}\n\n.xr-dim-list:before {\n  content: '(';\n}\n\n.xr-dim-list:after {\n  content: ')';\n}\n\n.xr-dim-list li:not(:last-child):after {\n  content: ',';\n  padding-right: 5px;\n}\n\n.xr-has-index {\n  font-weight: bold;\n}\n\n.xr-var-list,\n.xr-var-item {\n  display: contents;\n}\n\n.xr-var-item > div,\n.xr-var-item label,\n.xr-var-item > .xr-var-name span {\n  background-color: var(--xr-background-color-row-even);\n  margin-bottom: 0;\n}\n\n.xr-var-item > .xr-var-name:hover span {\n  padding-right: 5px;\n}\n\n.xr-var-list > li:nth-child(odd) > div,\n.xr-var-list > li:nth-child(odd) > label,\n.xr-var-list > li:nth-child(odd) > .xr-var-name span {\n  background-color: var(--xr-background-color-row-odd);\n}\n\n.xr-var-name {\n  grid-column: 1;\n}\n\n.xr-var-dims {\n  grid-column: 2;\n}\n\n.xr-var-dtype {\n  grid-column: 3;\n  text-align: right;\n  color: var(--xr-font-color2);\n}\n\n.xr-var-preview {\n  grid-column: 4;\n}\n\n.xr-index-preview {\n  grid-column: 2 / 5;\n  color: var(--xr-font-color2);\n}\n\n.xr-var-name,\n.xr-var-dims,\n.xr-var-dtype,\n.xr-preview,\n.xr-attrs dt {\n  white-space: nowrap;\n  overflow: hidden;\n  text-overflow: ellipsis;\n  padding-right: 10px;\n}\n\n.xr-var-name:hover,\n.xr-var-dims:hover,\n.xr-var-dtype:hover,\n.xr-attrs dt:hover {\n  overflow: visible;\n  width: auto;\n  z-index: 1;\n}\n\n.xr-var-attrs,\n.xr-var-data,\n.xr-index-data {\n  display: none;\n  background-color: var(--xr-background-color) !important;\n  padding-bottom: 5px !important;\n}\n\n.xr-var-attrs-in:checked ~ .xr-var-attrs,\n.xr-var-data-in:checked ~ .xr-var-data,\n.xr-index-data-in:checked ~ .xr-index-data {\n  display: block;\n}\n\n.xr-var-data > table {\n  float: right;\n}\n\n.xr-var-name span,\n.xr-var-data,\n.xr-index-name div,\n.xr-index-data,\n.xr-attrs {\n  padding-left: 25px !important;\n}\n\n.xr-attrs,\n.xr-var-attrs,\n.xr-var-data,\n.xr-index-data {\n  grid-column: 1 / -1;\n}\n\ndl.xr-attrs {\n  padding: 0;\n  margin: 0;\n  display: grid;\n  grid-template-columns: 125px auto;\n}\n\n.xr-attrs dt,\n.xr-attrs dd {\n  padding: 0;\n  margin: 0;\n  float: left;\n  padding-right: 10px;\n  width: auto;\n}\n\n.xr-attrs dt {\n  font-weight: normal;\n  grid-column: 1;\n}\n\n.xr-attrs dt:hover span {\n  display: inline-block;\n  background: var(--xr-background-color);\n  padding-right: 10px;\n}\n\n.xr-attrs dd {\n  grid-column: 2;\n  white-space: pre-wrap;\n  word-break: break-all;\n}\n\n.xr-icon-database,\n.xr-icon-file-text2,\n.xr-no-icon {\n  display: inline-block;\n  vertical-align: middle;\n  width: 1em;\n  height: 1.5em !important;\n  stroke-width: 0;\n  stroke: currentColor;\n  fill: currentColor;\n}\n</style><pre class='xr-text-repr-fallback'>&lt;xarray.DataArray (y: 25714, x: 80132, band: 3)&gt;\ndask.array&lt;normalize_chunk, shape=(25714, 80132, 3), dtype=float32, chunksize=(4485, 4784, 3), chunktype=numpy.ndarray&gt;\nCoordinates:\n  * band         (band) &lt;U5 &#x27;red&#x27; &#x27;green&#x27; &#x27;blue&#x27;\n    spatial_ref  int64 0\nDimensions without coordinates: y, x\nAttributes:\n    TIFFTAG_DATETIME:          2015:01:06 09:57:18\n    TIFFTAG_IMAGEDESCRIPTION:  This image, captured with the NASA/ESA Hubble ...\n    TIFFTAG_RESOLUTIONUNIT:    2 (pixels/inch)\n    TIFFTAG_SOFTWARE:          Adobe Photoshop CC 2014 (Windows)\n    TIFFTAG_XRESOLUTION:       72\n    TIFFTAG_YRESOLUTION:       72\n    scale_factor:              1.0\n    add_offset:                0.0</pre><div class='xr-wrap' style='display:none'><div class='xr-header'><div class='xr-obj-type'>xarray.DataArray</div><div class='xr-array-name'></div><ul class='xr-dim-list'><li><span>y</span>: 25714</li><li><span>x</span>: 80132</li><li><span class='xr-has-index'>band</span>: 3</li></ul></div><ul class='xr-sections'><li class='xr-section-item'><div class='xr-array-wrap'><input id='section-87557edb-242a-4dfc-8150-64383f429baf' class='xr-array-in' type='checkbox' checked><label for='section-87557edb-242a-4dfc-8150-64383f429baf' title='Show/hide data repr'><svg class='icon xr-icon-database'><use xlink:href='#icon-database'></use></svg></label><div class='xr-array-preview xr-preview'><span>dask.array&lt;chunksize=(4485, 4784, 3), meta=np.ndarray&gt;</span></div><div class='xr-array-data'><table>\n    <tr>\n        <td>\n            <table style=\"border-collapse: collapse;\">\n                <thead>\n                    <tr>\n                        <td> </td>\n                        <th> Array </th>\n                        <th> Chunk </th>\n                    </tr>\n                </thead>\n                <tbody>\n                    \n                    <tr>\n                        <th> Bytes </th>\n                        <td> 23.03 GiB </td>\n                        <td> 245.55 MiB </td>\n                    </tr>\n                    \n                    <tr>\n                        <th> Shape </th>\n                        <td> (25714, 80132, 3) </td>\n                        <td> (4485, 4784, 3) </td>\n                    </tr>\n                    <tr>\n                        <th> Dask graph </th>\n                        <td colspan=\"2\"> 102 chunks in 16 graph layers </td>\n                    </tr>\n                    <tr>\n                        <th> Data type </th>\n                        <td colspan=\"2\"> float32 numpy.ndarray </td>\n                    </tr>\n                </tbody>\n            </table>\n        </td>\n        <td>\n        <svg width=\"111\" height=\"195\" style=\"stroke:rgb(0,0,0);stroke-width:1\" >\n\n  <!-- Horizontal lines -->\n  <line x1=\"10\" y1=\"0\" x2=\"35\" y2=\"25\" style=\"stroke-width:2\" />\n  <line x1=\"10\" y1=\"7\" x2=\"35\" y2=\"32\" />\n  <line x1=\"10\" y1=\"14\" x2=\"35\" y2=\"40\" />\n  <line x1=\"10\" y1=\"21\" x2=\"35\" y2=\"47\" />\n  <line x1=\"10\" y1=\"28\" x2=\"35\" y2=\"54\" />\n  <line x1=\"10\" y1=\"35\" x2=\"35\" y2=\"61\" />\n  <line x1=\"10\" y1=\"42\" x2=\"35\" y2=\"68\" />\n  <line x1=\"10\" y1=\"50\" x2=\"35\" y2=\"75\" />\n  <line x1=\"10\" y1=\"57\" x2=\"35\" y2=\"83\" />\n  <line x1=\"10\" y1=\"64\" x2=\"35\" y2=\"90\" />\n  <line x1=\"10\" y1=\"71\" x2=\"35\" y2=\"97\" />\n  <line x1=\"10\" y1=\"78\" x2=\"35\" y2=\"104\" />\n  <line x1=\"10\" y1=\"85\" x2=\"35\" y2=\"111\" />\n  <line x1=\"10\" y1=\"93\" x2=\"35\" y2=\"118\" />\n  <line x1=\"10\" y1=\"100\" x2=\"35\" y2=\"126\" />\n  <line x1=\"10\" y1=\"107\" x2=\"35\" y2=\"133\" />\n  <line x1=\"10\" y1=\"114\" x2=\"35\" y2=\"140\" />\n  <line x1=\"10\" y1=\"120\" x2=\"35\" y2=\"145\" style=\"stroke-width:2\" />\n\n  <!-- Vertical lines -->\n  <line x1=\"10\" y1=\"0\" x2=\"10\" y2=\"120\" style=\"stroke-width:2\" />\n  <line x1=\"14\" y1=\"4\" x2=\"14\" y2=\"124\" />\n  <line x1=\"18\" y1=\"8\" x2=\"18\" y2=\"128\" />\n  <line x1=\"23\" y1=\"13\" x2=\"23\" y2=\"133\" />\n  <line x1=\"27\" y1=\"17\" x2=\"27\" y2=\"137\" />\n  <line x1=\"32\" y1=\"22\" x2=\"32\" y2=\"142\" />\n  <line x1=\"35\" y1=\"25\" x2=\"35\" y2=\"145\" style=\"stroke-width:2\" />\n\n  <!-- Colored Rectangle -->\n  <polygon points=\"10.0,0.0 35.74437417523722,25.74437417523722 35.74437417523722,145.74437417523723 10.0,120.0\" style=\"fill:#ECB172A0;stroke-width:0\"/>\n\n  <!-- Horizontal lines -->\n  <line x1=\"10\" y1=\"0\" x2=\"35\" y2=\"0\" style=\"stroke-width:2\" />\n  <line x1=\"14\" y1=\"4\" x2=\"39\" y2=\"4\" />\n  <line x1=\"18\" y1=\"8\" x2=\"44\" y2=\"8\" />\n  <line x1=\"23\" y1=\"13\" x2=\"48\" y2=\"13\" />\n  <line x1=\"27\" y1=\"17\" x2=\"53\" y2=\"17\" />\n  <line x1=\"32\" y1=\"22\" x2=\"57\" y2=\"22\" />\n  <line x1=\"35\" y1=\"25\" x2=\"61\" y2=\"25\" style=\"stroke-width:2\" />\n\n  <!-- Vertical lines -->\n  <line x1=\"10\" y1=\"0\" x2=\"35\" y2=\"25\" style=\"stroke-width:2\" />\n  <line x1=\"35\" y1=\"0\" x2=\"61\" y2=\"25\" style=\"stroke-width:2\" />\n\n  <!-- Colored Rectangle -->\n  <polygon points=\"10.0,0.0 35.41261651458248,0.0 61.1569906898197,25.74437417523722 35.74437417523722,25.74437417523722\" style=\"fill:#ECB172A0;stroke-width:0\"/>\n\n  <!-- Horizontal lines -->\n  <line x1=\"35\" y1=\"25\" x2=\"61\" y2=\"25\" style=\"stroke-width:2\" />\n  <line x1=\"35\" y1=\"32\" x2=\"61\" y2=\"32\" />\n  <line x1=\"35\" y1=\"40\" x2=\"61\" y2=\"40\" />\n  <line x1=\"35\" y1=\"47\" x2=\"61\" y2=\"47\" />\n  <line x1=\"35\" y1=\"54\" x2=\"61\" y2=\"54\" />\n  <line x1=\"35\" y1=\"61\" x2=\"61\" y2=\"61\" />\n  <line x1=\"35\" y1=\"68\" x2=\"61\" y2=\"68\" />\n  <line x1=\"35\" y1=\"75\" x2=\"61\" y2=\"75\" />\n  <line x1=\"35\" y1=\"83\" x2=\"61\" y2=\"83\" />\n  <line x1=\"35\" y1=\"90\" x2=\"61\" y2=\"90\" />\n  <line x1=\"35\" y1=\"97\" x2=\"61\" y2=\"97\" />\n  <line x1=\"35\" y1=\"104\" x2=\"61\" y2=\"104\" />\n  <line x1=\"35\" y1=\"111\" x2=\"61\" y2=\"111\" />\n  <line x1=\"35\" y1=\"118\" x2=\"61\" y2=\"118\" />\n  <line x1=\"35\" y1=\"126\" x2=\"61\" y2=\"126\" />\n  <line x1=\"35\" y1=\"133\" x2=\"61\" y2=\"133\" />\n  <line x1=\"35\" y1=\"140\" x2=\"61\" y2=\"140\" />\n  <line x1=\"35\" y1=\"145\" x2=\"61\" y2=\"145\" style=\"stroke-width:2\" />\n\n  <!-- Vertical lines -->\n  <line x1=\"35\" y1=\"25\" x2=\"35\" y2=\"145\" style=\"stroke-width:2\" />\n  <line x1=\"61\" y1=\"25\" x2=\"61\" y2=\"145\" style=\"stroke-width:2\" />\n\n  <!-- Colored Rectangle -->\n  <polygon points=\"35.74437417523722,25.74437417523722 61.15699068981971,25.74437417523722 61.15699068981971,145.74437417523723 35.74437417523722,145.74437417523723\" style=\"fill:#ECB172A0;stroke-width:0\"/>\n\n  <!-- Text -->\n  <text x=\"48.450682\" y=\"165.744374\" font-size=\"1.0rem\" font-weight=\"100\" text-anchor=\"middle\" >3</text>\n  <text x=\"81.156991\" y=\"85.744374\" font-size=\"1.0rem\" font-weight=\"100\" text-anchor=\"middle\" transform=\"rotate(-90,81.156991,85.744374)\">80132</text>\n  <text x=\"12.872187\" y=\"152.872187\" font-size=\"1.0rem\" font-weight=\"100\" text-anchor=\"middle\" transform=\"rotate(45,12.872187,152.872187)\">25714</text>\n</svg>\n        </td>\n    </tr>\n</table></div></div></li><li class='xr-section-item'><input id='section-b7d0f88e-e4ac-4a3d-979a-d44eb336d61f' class='xr-section-summary-in' type='checkbox'  checked><label for='section-b7d0f88e-e4ac-4a3d-979a-d44eb336d61f' class='xr-section-summary' >Coordinates: <span>(2)</span></label><div class='xr-section-inline-details'></div><div class='xr-section-details'><ul class='xr-var-list'><li class='xr-var-item'><div class='xr-var-name'><span class='xr-has-index'>band</span></div><div class='xr-var-dims'>(band)</div><div class='xr-var-dtype'>&lt;U5</div><div class='xr-var-preview xr-preview'>&#x27;red&#x27; &#x27;green&#x27; &#x27;blue&#x27;</div><input id='attrs-80d5b6a1-feb6-4bd5-baed-24ef7d3fee1c' class='xr-var-attrs-in' type='checkbox' disabled><label for='attrs-80d5b6a1-feb6-4bd5-baed-24ef7d3fee1c' title='Show/Hide attributes'><svg class='icon xr-icon-file-text2'><use xlink:href='#icon-file-text2'></use></svg></label><input id='data-2d593939-0730-4ffa-8b6d-eade24d7a473' class='xr-var-data-in' type='checkbox'><label for='data-2d593939-0730-4ffa-8b6d-eade24d7a473' title='Show/Hide data repr'><svg class='icon xr-icon-database'><use xlink:href='#icon-database'></use></svg></label><div class='xr-var-attrs'><dl class='xr-attrs'></dl></div><div class='xr-var-data'><pre>array([&#x27;red&#x27;, &#x27;green&#x27;, &#x27;blue&#x27;], dtype=&#x27;&lt;U5&#x27;)</pre></div></li><li class='xr-var-item'><div class='xr-var-name'><span>spatial_ref</span></div><div class='xr-var-dims'>()</div><div class='xr-var-dtype'>int64</div><div class='xr-var-preview xr-preview'>0</div><input id='attrs-56d30100-7a11-4ad9-8647-7d040a82de95' class='xr-var-attrs-in' type='checkbox' ><label for='attrs-56d30100-7a11-4ad9-8647-7d040a82de95' title='Show/Hide attributes'><svg class='icon xr-icon-file-text2'><use xlink:href='#icon-file-text2'></use></svg></label><input id='data-26951d57-cded-4642-b12e-c424feb58618' class='xr-var-data-in' type='checkbox'><label for='data-26951d57-cded-4642-b12e-c424feb58618' title='Show/Hide data repr'><svg class='icon xr-icon-database'><use xlink:href='#icon-database'></use></svg></label><div class='xr-var-attrs'><dl class='xr-attrs'><dt><span>GeoTransform :</span></dt><dd>0.0 1.0 0.0 0.0 0.0 1.0</dd></dl></div><div class='xr-var-data'><pre>array(0)</pre></div></li></ul></div></li><li class='xr-section-item'><input id='section-cff6f9a4-2467-4622-88ef-1df72d619954' class='xr-section-summary-in' type='checkbox'  ><label for='section-cff6f9a4-2467-4622-88ef-1df72d619954' class='xr-section-summary' >Indexes: <span>(1)</span></label><div class='xr-section-inline-details'></div><div class='xr-section-details'><ul class='xr-var-list'><li class='xr-var-item'><div class='xr-index-name'><div>band</div></div><div class='xr-index-preview'>PandasIndex</div><div></div><input id='index-e0c1c815-615a-4e1a-8bf5-3e90cf82019c' class='xr-index-data-in' type='checkbox'/><label for='index-e0c1c815-615a-4e1a-8bf5-3e90cf82019c' title='Show/Hide index repr'><svg class='icon xr-icon-database'><use xlink:href='#icon-database'></use></svg></label><div class='xr-index-data'><pre>PandasIndex(Index([&#x27;red&#x27;, &#x27;green&#x27;, &#x27;blue&#x27;], dtype=&#x27;object&#x27;, name=&#x27;band&#x27;))</pre></div></li></ul></div></li><li class='xr-section-item'><input id='section-a8375383-3803-497f-a631-ace107117ef7' class='xr-section-summary-in' type='checkbox'  checked><label for='section-a8375383-3803-497f-a631-ace107117ef7' class='xr-section-summary' >Attributes: <span>(8)</span></label><div class='xr-section-inline-details'></div><div class='xr-section-details'><dl class='xr-attrs'><dt><span>TIFFTAG_DATETIME :</span></dt><dd>2015:01:06 09:57:18</dd><dt><span>TIFFTAG_IMAGEDESCRIPTION :</span></dt><dd>This image, captured with the NASA/ESA Hubble Space Telescope, is the largest and sharpest image ever taken of the Andromeda galaxy — otherwise known as M31. This is a cropped version of the full image and has 1.5 billion pixels. You would need more than 600 HD television screens to display the whole image. It is the biggest Hubble image ever released and shows over 100 million stars and thousands of star clusters embedded in a section of the galaxy’s pancake-shaped disc stretching across over 40 000 light-years. This image is too large to be easily displayed at full resolution and is best appreciated using the zoom tool.</dd><dt><span>TIFFTAG_RESOLUTIONUNIT :</span></dt><dd>2 (pixels/inch)</dd><dt><span>TIFFTAG_SOFTWARE :</span></dt><dd>Adobe Photoshop CC 2014 (Windows)</dd><dt><span>TIFFTAG_XRESOLUTION :</span></dt><dd>72</dd><dt><span>TIFFTAG_YRESOLUTION :</span></dt><dd>72</dd><dt><span>scale_factor :</span></dt><dd>1.0</dd><dt><span>add_offset :</span></dt><dd>0.0</dd></dl></div></li></ul></div></div>"
     },
     "execution_count": 7,
     "metadata": {},
     "output_type": "execute_result"
    }
   ],
   "source": [
    "def rechunk_for_model(image: xr.DataArray, model_shape: Tuple[int, int, int]) -> da.array:\n",
    "    # Get items to pad on rows\n",
    "    model_y = model_shape[0]\n",
    "    image_y = image.sizes['y']\n",
    "    remainder_y = image_y % model_y\n",
    "    pad_y = (0, 0)\n",
    "    if remainder_y != 0:\n",
    "        extra_y = model_y - remainder_y\n",
    "        pad_y = (0, extra_y)\n",
    "\n",
    "    # Get items to pad on cols\n",
    "    model_x = model_shape[1]\n",
    "    image_x = image.sizes['x']\n",
    "    remainder_x = image_x % model_x\n",
    "    pad_x = (0, 0)\n",
    "    if remainder_x != 0:\n",
    "        extra_x = model_x - remainder_x\n",
    "        pad_x = (0, extra_x)\n",
    "\n",
    "    # Pad the image\n",
    "    image = image.pad({\n",
    "        'y': pad_y,\n",
    "        'x': pad_x\n",
    "        },\n",
    "        constant_values=0)\n",
    "    image_y = image.sizes['y']\n",
    "    image_x = image.sizes['x']\n",
    "\n",
    "    # Rechunk in multiples of model size\n",
    "    # Calculate the optimal size for dims x and y, assuming band joins together\n",
    "    chunk_size = parse_bytes(dask.config.get('array.chunk-size'))\n",
    "    model_band = model_shape[2]\n",
    "    patch_size = model_y * model_x * model_band * image.data.itemsize\n",
    "    # Check how many patches will be for every chunk in dims y and x\n",
    "    num_patches = chunk_size // patch_size\n",
    "    y_patches_in_chunk = isqrt(num_patches)\n",
    "    x_patches_in_chunk = num_patches // y_patches_in_chunk\n",
    "    # Rechunk and send\n",
    "    image = image.transpose(\"y\", \"x\", \"band\")\n",
    "    image = image.chunk(chunks={\n",
    "        'y': y_patches_in_chunk * model_y,\n",
    "        'x': x_patches_in_chunk * model_x,\n",
    "        'band': -1})\n",
    "    return image\n",
    "\n",
    "def normalize_chunk(chunk: np.ndarray):\n",
    "    # Use this one for [-1, 1] normalization\n",
    "    # chunk = cp.float32(chunk.get()) / 255.0 * 2.0 - 1.0\n",
    "    chunk = cp.float32(chunk.get()) / 255.0\n",
    "    return chunk\n",
    "\n",
    "def normalize_for_model(image: xr.DataArray) -> xr.DataArray:\n",
    "    image_data = image.data\n",
    "    image_data = da.map_blocks(normalize_chunk, image_data, dtype=np.float32)\n",
    "    return image.copy(deep=False,\n",
    "                      data=image_data)\n",
    "\n",
    "image_model = rechunk_for_model(image_mosaic, model.input_shape)\n",
    "image_model = normalize_for_model(image_model)\n",
    "image_model\n"
   ],
   "metadata": {
    "collapsed": false
   }
  },
  {
   "cell_type": "markdown",
   "source": [
    "Now, the model is passed over the chunks of the image. Note `da.blockwise`, like map_blocks, but mucho more flexible (and difficult)."
   ],
   "metadata": {
    "collapsed": false
   }
  },
  {
   "cell_type": "code",
   "execution_count": 8,
   "outputs": [
    {
     "data": {
      "text/plain": "<xarray.DataArray 'patch-and-predict' (y: 86, x: 268, band: 3)>\ndask.array<patch-and, shape=(86, 268, 3), dtype=float32, chunksize=(15, 16, 3), chunktype=numpy.ndarray>\nCoordinates:\n  * band     (band) <U5 'red' 'green' 'blue'\nDimensions without coordinates: y, x",
      "text/html": "<div><svg style=\"position: absolute; width: 0; height: 0; overflow: hidden\">\n<defs>\n<symbol id=\"icon-database\" viewBox=\"0 0 32 32\">\n<path d=\"M16 0c-8.837 0-16 2.239-16 5v4c0 2.761 7.163 5 16 5s16-2.239 16-5v-4c0-2.761-7.163-5-16-5z\"></path>\n<path d=\"M16 17c-8.837 0-16-2.239-16-5v6c0 2.761 7.163 5 16 5s16-2.239 16-5v-6c0 2.761-7.163 5-16 5z\"></path>\n<path d=\"M16 26c-8.837 0-16-2.239-16-5v6c0 2.761 7.163 5 16 5s16-2.239 16-5v-6c0 2.761-7.163 5-16 5z\"></path>\n</symbol>\n<symbol id=\"icon-file-text2\" viewBox=\"0 0 32 32\">\n<path d=\"M28.681 7.159c-0.694-0.947-1.662-2.053-2.724-3.116s-2.169-2.030-3.116-2.724c-1.612-1.182-2.393-1.319-2.841-1.319h-15.5c-1.378 0-2.5 1.121-2.5 2.5v27c0 1.378 1.122 2.5 2.5 2.5h23c1.378 0 2.5-1.122 2.5-2.5v-19.5c0-0.448-0.137-1.23-1.319-2.841zM24.543 5.457c0.959 0.959 1.712 1.825 2.268 2.543h-4.811v-4.811c0.718 0.556 1.584 1.309 2.543 2.268zM28 29.5c0 0.271-0.229 0.5-0.5 0.5h-23c-0.271 0-0.5-0.229-0.5-0.5v-27c0-0.271 0.229-0.5 0.5-0.5 0 0 15.499-0 15.5 0v7c0 0.552 0.448 1 1 1h7v19.5z\"></path>\n<path d=\"M23 26h-14c-0.552 0-1-0.448-1-1s0.448-1 1-1h14c0.552 0 1 0.448 1 1s-0.448 1-1 1z\"></path>\n<path d=\"M23 22h-14c-0.552 0-1-0.448-1-1s0.448-1 1-1h14c0.552 0 1 0.448 1 1s-0.448 1-1 1z\"></path>\n<path d=\"M23 18h-14c-0.552 0-1-0.448-1-1s0.448-1 1-1h14c0.552 0 1 0.448 1 1s-0.448 1-1 1z\"></path>\n</symbol>\n</defs>\n</svg>\n<style>/* CSS stylesheet for displaying xarray objects in jupyterlab.\n *\n */\n\n:root {\n  --xr-font-color0: var(--jp-content-font-color0, rgba(0, 0, 0, 1));\n  --xr-font-color2: var(--jp-content-font-color2, rgba(0, 0, 0, 0.54));\n  --xr-font-color3: var(--jp-content-font-color3, rgba(0, 0, 0, 0.38));\n  --xr-border-color: var(--jp-border-color2, #e0e0e0);\n  --xr-disabled-color: var(--jp-layout-color3, #bdbdbd);\n  --xr-background-color: var(--jp-layout-color0, white);\n  --xr-background-color-row-even: var(--jp-layout-color1, white);\n  --xr-background-color-row-odd: var(--jp-layout-color2, #eeeeee);\n}\n\nhtml[theme=dark],\nbody[data-theme=dark],\nbody.vscode-dark {\n  --xr-font-color0: rgba(255, 255, 255, 1);\n  --xr-font-color2: rgba(255, 255, 255, 0.54);\n  --xr-font-color3: rgba(255, 255, 255, 0.38);\n  --xr-border-color: #1F1F1F;\n  --xr-disabled-color: #515151;\n  --xr-background-color: #111111;\n  --xr-background-color-row-even: #111111;\n  --xr-background-color-row-odd: #313131;\n}\n\n.xr-wrap {\n  display: block !important;\n  min-width: 300px;\n  max-width: 700px;\n}\n\n.xr-text-repr-fallback {\n  /* fallback to plain text repr when CSS is not injected (untrusted notebook) */\n  display: none;\n}\n\n.xr-header {\n  padding-top: 6px;\n  padding-bottom: 6px;\n  margin-bottom: 4px;\n  border-bottom: solid 1px var(--xr-border-color);\n}\n\n.xr-header > div,\n.xr-header > ul {\n  display: inline;\n  margin-top: 0;\n  margin-bottom: 0;\n}\n\n.xr-obj-type,\n.xr-array-name {\n  margin-left: 2px;\n  margin-right: 10px;\n}\n\n.xr-obj-type {\n  color: var(--xr-font-color2);\n}\n\n.xr-sections {\n  padding-left: 0 !important;\n  display: grid;\n  grid-template-columns: 150px auto auto 1fr 20px 20px;\n}\n\n.xr-section-item {\n  display: contents;\n}\n\n.xr-section-item input {\n  display: none;\n}\n\n.xr-section-item input + label {\n  color: var(--xr-disabled-color);\n}\n\n.xr-section-item input:enabled + label {\n  cursor: pointer;\n  color: var(--xr-font-color2);\n}\n\n.xr-section-item input:enabled + label:hover {\n  color: var(--xr-font-color0);\n}\n\n.xr-section-summary {\n  grid-column: 1;\n  color: var(--xr-font-color2);\n  font-weight: 500;\n}\n\n.xr-section-summary > span {\n  display: inline-block;\n  padding-left: 0.5em;\n}\n\n.xr-section-summary-in:disabled + label {\n  color: var(--xr-font-color2);\n}\n\n.xr-section-summary-in + label:before {\n  display: inline-block;\n  content: '►';\n  font-size: 11px;\n  width: 15px;\n  text-align: center;\n}\n\n.xr-section-summary-in:disabled + label:before {\n  color: var(--xr-disabled-color);\n}\n\n.xr-section-summary-in:checked + label:before {\n  content: '▼';\n}\n\n.xr-section-summary-in:checked + label > span {\n  display: none;\n}\n\n.xr-section-summary,\n.xr-section-inline-details {\n  padding-top: 4px;\n  padding-bottom: 4px;\n}\n\n.xr-section-inline-details {\n  grid-column: 2 / -1;\n}\n\n.xr-section-details {\n  display: none;\n  grid-column: 1 / -1;\n  margin-bottom: 5px;\n}\n\n.xr-section-summary-in:checked ~ .xr-section-details {\n  display: contents;\n}\n\n.xr-array-wrap {\n  grid-column: 1 / -1;\n  display: grid;\n  grid-template-columns: 20px auto;\n}\n\n.xr-array-wrap > label {\n  grid-column: 1;\n  vertical-align: top;\n}\n\n.xr-preview {\n  color: var(--xr-font-color3);\n}\n\n.xr-array-preview,\n.xr-array-data {\n  padding: 0 5px !important;\n  grid-column: 2;\n}\n\n.xr-array-data,\n.xr-array-in:checked ~ .xr-array-preview {\n  display: none;\n}\n\n.xr-array-in:checked ~ .xr-array-data,\n.xr-array-preview {\n  display: inline-block;\n}\n\n.xr-dim-list {\n  display: inline-block !important;\n  list-style: none;\n  padding: 0 !important;\n  margin: 0;\n}\n\n.xr-dim-list li {\n  display: inline-block;\n  padding: 0;\n  margin: 0;\n}\n\n.xr-dim-list:before {\n  content: '(';\n}\n\n.xr-dim-list:after {\n  content: ')';\n}\n\n.xr-dim-list li:not(:last-child):after {\n  content: ',';\n  padding-right: 5px;\n}\n\n.xr-has-index {\n  font-weight: bold;\n}\n\n.xr-var-list,\n.xr-var-item {\n  display: contents;\n}\n\n.xr-var-item > div,\n.xr-var-item label,\n.xr-var-item > .xr-var-name span {\n  background-color: var(--xr-background-color-row-even);\n  margin-bottom: 0;\n}\n\n.xr-var-item > .xr-var-name:hover span {\n  padding-right: 5px;\n}\n\n.xr-var-list > li:nth-child(odd) > div,\n.xr-var-list > li:nth-child(odd) > label,\n.xr-var-list > li:nth-child(odd) > .xr-var-name span {\n  background-color: var(--xr-background-color-row-odd);\n}\n\n.xr-var-name {\n  grid-column: 1;\n}\n\n.xr-var-dims {\n  grid-column: 2;\n}\n\n.xr-var-dtype {\n  grid-column: 3;\n  text-align: right;\n  color: var(--xr-font-color2);\n}\n\n.xr-var-preview {\n  grid-column: 4;\n}\n\n.xr-index-preview {\n  grid-column: 2 / 5;\n  color: var(--xr-font-color2);\n}\n\n.xr-var-name,\n.xr-var-dims,\n.xr-var-dtype,\n.xr-preview,\n.xr-attrs dt {\n  white-space: nowrap;\n  overflow: hidden;\n  text-overflow: ellipsis;\n  padding-right: 10px;\n}\n\n.xr-var-name:hover,\n.xr-var-dims:hover,\n.xr-var-dtype:hover,\n.xr-attrs dt:hover {\n  overflow: visible;\n  width: auto;\n  z-index: 1;\n}\n\n.xr-var-attrs,\n.xr-var-data,\n.xr-index-data {\n  display: none;\n  background-color: var(--xr-background-color) !important;\n  padding-bottom: 5px !important;\n}\n\n.xr-var-attrs-in:checked ~ .xr-var-attrs,\n.xr-var-data-in:checked ~ .xr-var-data,\n.xr-index-data-in:checked ~ .xr-index-data {\n  display: block;\n}\n\n.xr-var-data > table {\n  float: right;\n}\n\n.xr-var-name span,\n.xr-var-data,\n.xr-index-name div,\n.xr-index-data,\n.xr-attrs {\n  padding-left: 25px !important;\n}\n\n.xr-attrs,\n.xr-var-attrs,\n.xr-var-data,\n.xr-index-data {\n  grid-column: 1 / -1;\n}\n\ndl.xr-attrs {\n  padding: 0;\n  margin: 0;\n  display: grid;\n  grid-template-columns: 125px auto;\n}\n\n.xr-attrs dt,\n.xr-attrs dd {\n  padding: 0;\n  margin: 0;\n  float: left;\n  padding-right: 10px;\n  width: auto;\n}\n\n.xr-attrs dt {\n  font-weight: normal;\n  grid-column: 1;\n}\n\n.xr-attrs dt:hover span {\n  display: inline-block;\n  background: var(--xr-background-color);\n  padding-right: 10px;\n}\n\n.xr-attrs dd {\n  grid-column: 2;\n  white-space: pre-wrap;\n  word-break: break-all;\n}\n\n.xr-icon-database,\n.xr-icon-file-text2,\n.xr-no-icon {\n  display: inline-block;\n  vertical-align: middle;\n  width: 1em;\n  height: 1.5em !important;\n  stroke-width: 0;\n  stroke: currentColor;\n  fill: currentColor;\n}\n</style><pre class='xr-text-repr-fallback'>&lt;xarray.DataArray &#x27;patch-and-predict&#x27; (y: 86, x: 268, band: 3)&gt;\ndask.array&lt;patch-and, shape=(86, 268, 3), dtype=float32, chunksize=(15, 16, 3), chunktype=numpy.ndarray&gt;\nCoordinates:\n  * band     (band) &lt;U5 &#x27;red&#x27; &#x27;green&#x27; &#x27;blue&#x27;\nDimensions without coordinates: y, x</pre><div class='xr-wrap' style='display:none'><div class='xr-header'><div class='xr-obj-type'>xarray.DataArray</div><div class='xr-array-name'>'patch-and-predict'</div><ul class='xr-dim-list'><li><span>y</span>: 86</li><li><span>x</span>: 268</li><li><span class='xr-has-index'>band</span>: 3</li></ul></div><ul class='xr-sections'><li class='xr-section-item'><div class='xr-array-wrap'><input id='section-a00d76ba-c9be-4621-8dc8-17add6960ede' class='xr-array-in' type='checkbox' checked><label for='section-a00d76ba-c9be-4621-8dc8-17add6960ede' title='Show/hide data repr'><svg class='icon xr-icon-database'><use xlink:href='#icon-database'></use></svg></label><div class='xr-array-preview xr-preview'><span>dask.array&lt;chunksize=(15, 16, 3), meta=np.ndarray&gt;</span></div><div class='xr-array-data'><table>\n    <tr>\n        <td>\n            <table style=\"border-collapse: collapse;\">\n                <thead>\n                    <tr>\n                        <td> </td>\n                        <th> Array </th>\n                        <th> Chunk </th>\n                    </tr>\n                </thead>\n                <tbody>\n                    \n                    <tr>\n                        <th> Bytes </th>\n                        <td> 270.09 kiB </td>\n                        <td> 2.81 kiB </td>\n                    </tr>\n                    \n                    <tr>\n                        <th> Shape </th>\n                        <td> (86, 268, 3) </td>\n                        <td> (15, 16, 3) </td>\n                    </tr>\n                    <tr>\n                        <th> Dask graph </th>\n                        <td colspan=\"2\"> 102 chunks in 17 graph layers </td>\n                    </tr>\n                    <tr>\n                        <th> Data type </th>\n                        <td colspan=\"2\"> float32 numpy.ndarray </td>\n                    </tr>\n                </tbody>\n            </table>\n        </td>\n        <td>\n        <svg width=\"111\" height=\"195\" style=\"stroke:rgb(0,0,0);stroke-width:1\" >\n\n  <!-- Horizontal lines -->\n  <line x1=\"10\" y1=\"0\" x2=\"35\" y2=\"25\" style=\"stroke-width:2\" />\n  <line x1=\"10\" y1=\"7\" x2=\"35\" y2=\"32\" />\n  <line x1=\"10\" y1=\"14\" x2=\"35\" y2=\"40\" />\n  <line x1=\"10\" y1=\"21\" x2=\"35\" y2=\"47\" />\n  <line x1=\"10\" y1=\"28\" x2=\"35\" y2=\"54\" />\n  <line x1=\"10\" y1=\"35\" x2=\"35\" y2=\"61\" />\n  <line x1=\"10\" y1=\"42\" x2=\"35\" y2=\"68\" />\n  <line x1=\"10\" y1=\"50\" x2=\"35\" y2=\"75\" />\n  <line x1=\"10\" y1=\"57\" x2=\"35\" y2=\"83\" />\n  <line x1=\"10\" y1=\"64\" x2=\"35\" y2=\"90\" />\n  <line x1=\"10\" y1=\"71\" x2=\"35\" y2=\"97\" />\n  <line x1=\"10\" y1=\"78\" x2=\"35\" y2=\"104\" />\n  <line x1=\"10\" y1=\"85\" x2=\"35\" y2=\"111\" />\n  <line x1=\"10\" y1=\"93\" x2=\"35\" y2=\"118\" />\n  <line x1=\"10\" y1=\"100\" x2=\"35\" y2=\"126\" />\n  <line x1=\"10\" y1=\"107\" x2=\"35\" y2=\"133\" />\n  <line x1=\"10\" y1=\"114\" x2=\"35\" y2=\"140\" />\n  <line x1=\"10\" y1=\"120\" x2=\"35\" y2=\"145\" style=\"stroke-width:2\" />\n\n  <!-- Vertical lines -->\n  <line x1=\"10\" y1=\"0\" x2=\"10\" y2=\"120\" style=\"stroke-width:2\" />\n  <line x1=\"14\" y1=\"4\" x2=\"14\" y2=\"124\" />\n  <line x1=\"18\" y1=\"8\" x2=\"18\" y2=\"128\" />\n  <line x1=\"23\" y1=\"13\" x2=\"23\" y2=\"133\" />\n  <line x1=\"27\" y1=\"17\" x2=\"27\" y2=\"137\" />\n  <line x1=\"32\" y1=\"22\" x2=\"32\" y2=\"142\" />\n  <line x1=\"35\" y1=\"25\" x2=\"35\" y2=\"145\" style=\"stroke-width:2\" />\n\n  <!-- Colored Rectangle -->\n  <polygon points=\"10.0,0.0 35.74437417523722,25.74437417523722 35.74437417523722,145.74437417523723 10.0,120.0\" style=\"fill:#ECB172A0;stroke-width:0\"/>\n\n  <!-- Horizontal lines -->\n  <line x1=\"10\" y1=\"0\" x2=\"35\" y2=\"0\" style=\"stroke-width:2\" />\n  <line x1=\"14\" y1=\"4\" x2=\"40\" y2=\"4\" />\n  <line x1=\"18\" y1=\"8\" x2=\"44\" y2=\"8\" />\n  <line x1=\"23\" y1=\"13\" x2=\"49\" y2=\"13\" />\n  <line x1=\"27\" y1=\"17\" x2=\"53\" y2=\"17\" />\n  <line x1=\"32\" y1=\"22\" x2=\"58\" y2=\"22\" />\n  <line x1=\"35\" y1=\"25\" x2=\"61\" y2=\"25\" style=\"stroke-width:2\" />\n\n  <!-- Vertical lines -->\n  <line x1=\"10\" y1=\"0\" x2=\"35\" y2=\"25\" style=\"stroke-width:2\" />\n  <line x1=\"35\" y1=\"0\" x2=\"61\" y2=\"25\" style=\"stroke-width:2\" />\n\n  <!-- Colored Rectangle -->\n  <polygon points=\"10.0,0.0 35.9607926524735,0.0 61.70516682771072,25.74437417523722 35.74437417523722,25.74437417523722\" style=\"fill:#ECB172A0;stroke-width:0\"/>\n\n  <!-- Horizontal lines -->\n  <line x1=\"35\" y1=\"25\" x2=\"61\" y2=\"25\" style=\"stroke-width:2\" />\n  <line x1=\"35\" y1=\"32\" x2=\"61\" y2=\"32\" />\n  <line x1=\"35\" y1=\"40\" x2=\"61\" y2=\"40\" />\n  <line x1=\"35\" y1=\"47\" x2=\"61\" y2=\"47\" />\n  <line x1=\"35\" y1=\"54\" x2=\"61\" y2=\"54\" />\n  <line x1=\"35\" y1=\"61\" x2=\"61\" y2=\"61\" />\n  <line x1=\"35\" y1=\"68\" x2=\"61\" y2=\"68\" />\n  <line x1=\"35\" y1=\"75\" x2=\"61\" y2=\"75\" />\n  <line x1=\"35\" y1=\"83\" x2=\"61\" y2=\"83\" />\n  <line x1=\"35\" y1=\"90\" x2=\"61\" y2=\"90\" />\n  <line x1=\"35\" y1=\"97\" x2=\"61\" y2=\"97\" />\n  <line x1=\"35\" y1=\"104\" x2=\"61\" y2=\"104\" />\n  <line x1=\"35\" y1=\"111\" x2=\"61\" y2=\"111\" />\n  <line x1=\"35\" y1=\"118\" x2=\"61\" y2=\"118\" />\n  <line x1=\"35\" y1=\"126\" x2=\"61\" y2=\"126\" />\n  <line x1=\"35\" y1=\"133\" x2=\"61\" y2=\"133\" />\n  <line x1=\"35\" y1=\"140\" x2=\"61\" y2=\"140\" />\n  <line x1=\"35\" y1=\"145\" x2=\"61\" y2=\"145\" style=\"stroke-width:2\" />\n\n  <!-- Vertical lines -->\n  <line x1=\"35\" y1=\"25\" x2=\"35\" y2=\"145\" style=\"stroke-width:2\" />\n  <line x1=\"61\" y1=\"25\" x2=\"61\" y2=\"145\" style=\"stroke-width:2\" />\n\n  <!-- Colored Rectangle -->\n  <polygon points=\"35.74437417523722,25.74437417523722 61.70516682771073,25.74437417523722 61.70516682771073,145.74437417523723 35.74437417523722,145.74437417523723\" style=\"fill:#ECB172A0;stroke-width:0\"/>\n\n  <!-- Text -->\n  <text x=\"48.724771\" y=\"165.744374\" font-size=\"1.0rem\" font-weight=\"100\" text-anchor=\"middle\" >3</text>\n  <text x=\"81.705167\" y=\"85.744374\" font-size=\"1.0rem\" font-weight=\"100\" text-anchor=\"middle\" transform=\"rotate(-90,81.705167,85.744374)\">268</text>\n  <text x=\"12.872187\" y=\"152.872187\" font-size=\"1.0rem\" font-weight=\"100\" text-anchor=\"middle\" transform=\"rotate(45,12.872187,152.872187)\">86</text>\n</svg>\n        </td>\n    </tr>\n</table></div></div></li><li class='xr-section-item'><input id='section-fee86656-2528-41aa-94ce-6caa823c3bc5' class='xr-section-summary-in' type='checkbox'  checked><label for='section-fee86656-2528-41aa-94ce-6caa823c3bc5' class='xr-section-summary' >Coordinates: <span>(1)</span></label><div class='xr-section-inline-details'></div><div class='xr-section-details'><ul class='xr-var-list'><li class='xr-var-item'><div class='xr-var-name'><span class='xr-has-index'>band</span></div><div class='xr-var-dims'>(band)</div><div class='xr-var-dtype'>&lt;U5</div><div class='xr-var-preview xr-preview'>&#x27;red&#x27; &#x27;green&#x27; &#x27;blue&#x27;</div><input id='attrs-0bd32477-109e-4b6c-969b-369ffe5213bf' class='xr-var-attrs-in' type='checkbox' disabled><label for='attrs-0bd32477-109e-4b6c-969b-369ffe5213bf' title='Show/Hide attributes'><svg class='icon xr-icon-file-text2'><use xlink:href='#icon-file-text2'></use></svg></label><input id='data-85b2fcaf-249e-4858-b626-1e0c37d1c1c3' class='xr-var-data-in' type='checkbox'><label for='data-85b2fcaf-249e-4858-b626-1e0c37d1c1c3' title='Show/Hide data repr'><svg class='icon xr-icon-database'><use xlink:href='#icon-database'></use></svg></label><div class='xr-var-attrs'><dl class='xr-attrs'></dl></div><div class='xr-var-data'><pre>array([&#x27;red&#x27;, &#x27;green&#x27;, &#x27;blue&#x27;], dtype=&#x27;&lt;U5&#x27;)</pre></div></li></ul></div></li><li class='xr-section-item'><input id='section-b8d36ddd-ef7d-429c-8747-5ad41d799e92' class='xr-section-summary-in' type='checkbox'  ><label for='section-b8d36ddd-ef7d-429c-8747-5ad41d799e92' class='xr-section-summary' >Indexes: <span>(1)</span></label><div class='xr-section-inline-details'></div><div class='xr-section-details'><ul class='xr-var-list'><li class='xr-var-item'><div class='xr-index-name'><div>band</div></div><div class='xr-index-preview'>PandasIndex</div><div></div><input id='index-8870fc0c-f8ec-44c2-a213-9039a80cdbf6' class='xr-index-data-in' type='checkbox'/><label for='index-8870fc0c-f8ec-44c2-a213-9039a80cdbf6' title='Show/Hide index repr'><svg class='icon xr-icon-database'><use xlink:href='#icon-database'></use></svg></label><div class='xr-index-data'><pre>PandasIndex(Index([&#x27;red&#x27;, &#x27;green&#x27;, &#x27;blue&#x27;], dtype=&#x27;object&#x27;, name=&#x27;band&#x27;))</pre></div></li></ul></div></li><li class='xr-section-item'><input id='section-f2723142-ddd5-476a-8ab5-af4930495402' class='xr-section-summary-in' type='checkbox' disabled ><label for='section-f2723142-ddd5-476a-8ab5-af4930495402' class='xr-section-summary'  title='Expand/collapse section'>Attributes: <span>(0)</span></label><div class='xr-section-inline-details'></div><div class='xr-section-details'><dl class='xr-attrs'></dl></div></li></ul></div></div>"
     },
     "execution_count": 8,
     "metadata": {},
     "output_type": "execute_result"
    }
   ],
   "source": [
    "def patch_and_predict(chunk: np.ndarray, model: Model):\n",
    "    # Generate patches\n",
    "    patches = view_as_blocks(chunk, model.input_shape)\n",
    "    # Ignore blocks for channel\n",
    "    patches = patches[:, :, 0]\n",
    "    # Predict\n",
    "    prediction = model.predict(patches)\n",
    "    return prediction\n",
    "\n",
    "def predict_image(image: xr.DataArray, model: Model) -> xr.DataArray:\n",
    "    image_data = image.data\n",
    "    predicted_data = da.blockwise(lambda x: patch_and_predict(x, model), 'yxc', image.data, 'yxc',\n",
    "                                       meta=image_data._meta,\n",
    "                                       name='patch-and-predict',\n",
    "                                       adjust_chunks={'y': lambda y: y * model.output_shape[0] // model.input_shape[0],\n",
    "                                                      'x': lambda x: x * model.output_shape[1] // model.input_shape[1],\n",
    "                                                      'c': lambda _: model.output_shape[2]})\n",
    "    return xr.DataArray(data=predicted_data,\n",
    "                       dims=('y', 'x', 'band'),\n",
    "                       coords={\n",
    "                           'band': ['red', 'green', 'blue']\n",
    "                       })\n",
    "\n",
    "predicted_image = predict_image(image_model, model)\n",
    "predicted_image"
   ],
   "metadata": {
    "collapsed": false
   }
  },
  {
   "cell_type": "markdown",
   "source": [
    "Napari could be used for painting the results. If it were working on my computer"
   ],
   "metadata": {
    "collapsed": false
   }
  },
  {
   "cell_type": "code",
   "execution_count": 9,
   "id": "03272428",
   "metadata": {},
   "outputs": [],
   "source": [
    "#%gui qt5\n",
    "#import napari\n",
    "# viewer = napari.view_image(predicted_image)"
   ]
  },
  {
   "cell_type": "markdown",
   "source": [
    "So, at the moment, let's just save the result. That will trigger all the computation.\n",
    "\n",
    "By the way, you can check the progress in the client's dashboard."
   ],
   "metadata": {
    "collapsed": false
   }
  },
  {
   "cell_type": "code",
   "execution_count": 10,
   "outputs": [
    {
     "name": "stderr",
     "output_type": "stream",
     "text": [
      "/home/user/miniconda3/envs/big-image/lib/python3.10/site-packages/rasterio/__init__.py:304: NotGeoreferencedWarning: Dataset has no geotransform, gcps, or rpcs. The identity matrix will be returned.\n",
      "  dataset = DatasetReader(path, driver=driver, sharing=sharing, **kwargs)\n"
     ]
    }
   ],
   "source": [
    "netcdf_path = BASE_PATH + \"/data/results.nc\"\n",
    "predicted_image.transpose(\"band\", \"y\", \"x\").to_dataset(name=\"prediction\").to_netcdf(netcdf_path, engine=\"netcdf4\")"
   ],
   "metadata": {
    "collapsed": false
   }
  }
 ],
 "metadata": {
  "kernelspec": {
   "display_name": "Python 3 (ipykernel)",
   "language": "python",
   "name": "python3"
  },
  "language_info": {
   "codemirror_mode": {
    "name": "ipython",
    "version": 3
   },
   "file_extension": ".py",
   "mimetype": "text/x-python",
   "name": "python",
   "nbconvert_exporter": "python",
   "pygments_lexer": "ipython3",
   "version": "3.10.9"
  }
 },
 "nbformat": 4,
 "nbformat_minor": 5
}
